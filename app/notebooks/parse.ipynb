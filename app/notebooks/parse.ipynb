{
 "cells": [
  {
   "cell_type": "markdown",
   "id": "0506fca6",
   "metadata": {},
   "source": [
    "# Parse Bundestag Metadata"
   ]
  },
  {
   "cell_type": "markdown",
   "id": "af4520c0",
   "metadata": {},
   "source": [
    "This Notebook implements an custom way to parse the Bundestag metadata. The open discourse way misses some important aspects and therefore a more tailored approach was needed. This way of parsing is related, but adds some important features to capture all data reliably."
   ]
  },
  {
   "cell_type": "markdown",
   "id": "d51bcb12",
   "metadata": {},
   "source": [
    "## Imports"
   ]
  },
  {
   "cell_type": "code",
   "execution_count": null,
   "id": "9b576232",
   "metadata": {},
   "outputs": [],
   "source": [
    "import os\n",
    "import xml.etree.ElementTree as ET\n",
    "from dataclasses import asdict, dataclass\n",
    "from datetime import datetime\n",
    "\n",
    "import pandas as pd"
   ]
  },
  {
   "cell_type": "markdown",
   "id": "bb35da84",
   "metadata": {},
   "source": [
    "## Helper Functions"
   ]
  },
  {
   "cell_type": "code",
   "execution_count": null,
   "id": "bf5a5a14",
   "metadata": {},
   "outputs": [],
   "source": [
    "def _txt(parent: ET.Element | None, tag: str) -> str:\n",
    "    \"\"\"Safely fetch the text content of a child tag or return an empty string.\n",
    "\n",
    "    Args:\n",
    "        parent (ET.Element | None): The parent XML element.\n",
    "        tag (str): The tag name to search for.\n",
    "\n",
    "    Returns:\n",
    "        str: The text content of the child tag or an empty string.\n",
    "    \"\"\"\n",
    "\n",
    "    if parent is None:\n",
    "        return \"\"\n",
    "    node = parent.find(tag)\n",
    "    return (node.text or \"\").strip() if node is not None else \"\"\n",
    "\n",
    "\n",
    "def _parse_date(value: str) -> datetime | None:\n",
    "    \"\"\"Parse dates of the form 'DD.MM.YYYY' into a datetime.\n",
    "\n",
    "    Args:\n",
    "        value (str): The date string to parse.\n",
    "\n",
    "    Returns:\n",
    "        datetime | None: The parsed date or None if parsing failed.\n",
    "    \"\"\"\n",
    "\n",
    "    value = (value or \"\").strip()\n",
    "    if not value:\n",
    "        return None\n",
    "    for fmt in (\"%d.%m.%Y\",):\n",
    "        try:\n",
    "            return datetime.strptime(value, fmt)\n",
    "        except ValueError:\n",
    "            continue\n",
    "    return None\n",
    "\n",
    "def _choose_name_variant(namen_el: ET.Element | None) -> ET.Element | None:\n",
    "    \"\"\"Pick the most relevant <NAME> variant.\n",
    "\n",
    "    Args:\n",
    "        namen_el (ET.Element | None): The <NAMEN> element to search within.\n",
    "\n",
    "    Returns:\n",
    "        ET.Element | None: The chosen <NAME> element or None if none found.\n",
    "    \"\"\"\n",
    "\n",
    "    if namen_el is None:\n",
    "        return None\n",
    "    variants = namen_el.findall(\"NAME\")\n",
    "    if not variants:\n",
    "        return None\n",
    "\n",
    "    # 1) Prefer empty HISTORIE_BIS\n",
    "    current = [v for v in variants if not _txt(v, \"HISTORIE_BIS\")]\n",
    "    if current:\n",
    "        # If multiple, choose latest HISTORIE_VON\n",
    "        def key_fn(v: ET.Element):\n",
    "            return _parse_date(_txt(v, \"HISTORIE_VON\")) or datetime.min\n",
    "\n",
    "        return sorted(current, key=key_fn)[-1]\n",
    "\n",
    "    # 2) Otherwise choose latest HISTORIE_VON overall\n",
    "    def key_fn_any(v: ET.Element):\n",
    "        return _parse_date(_txt(v, \"HISTORIE_VON\")) or datetime.min\n",
    "\n",
    "    return sorted(variants, key=key_fn_any)[-1]Í"
   ]
  },
  {
   "cell_type": "markdown",
   "id": "f051a572",
   "metadata": {},
   "source": [
    "## Helper Classes"
   ]
  },
  {
   "cell_type": "code",
   "execution_count": null,
   "id": "21a59942",
   "metadata": {},
   "outputs": [],
   "source": [
    "@dataclass\n",
    "class Member:\n",
    "    id: str\n",
    "    last_name: str\n",
    "    first_name: str\n",
    "    academic_title: str\n",
    "    birth_date: datetime | None\n",
    "    birth_place: str\n",
    "    birth_country: str\n",
    "    death_date: datetime | None\n",
    "    gender: str\n",
    "    marital_status: str\n",
    "    aristocracy: str\n",
    "    profession: str\n",
    "    party_short: str\n",
    "\n",
    "\n",
    "@dataclass\n",
    "class Term:\n",
    "    member_id: str\n",
    "    wp: int | None\n",
    "    mdbwp_von: datetime | None\n",
    "    mdbwp_bis: datetime | None\n",
    "    wkr_nummer: str\n",
    "    wkr_name: str\n",
    "    wkr_land: str\n",
    "    liste: str\n",
    "    mandatsart: str"
   ]
  },
  {
   "cell_type": "markdown",
   "id": "01095750",
   "metadata": {},
   "source": [
    "## Parse"
   ]
  },
  {
   "cell_type": "code",
   "execution_count": null,
   "id": "9341d385",
   "metadata": {},
   "outputs": [],
   "source": [
    "XML_PATH = os.path.join(\"data\", \"raw\", \"MDB_STAMMDATEN.XML\")"
   ]
  },
  {
   "cell_type": "code",
   "execution_count": null,
   "id": "643c1c95",
   "metadata": {},
   "outputs": [],
   "source": [
    "tree = ET.parse(XML_PATH)\n",
    "root = tree.getroot()\n",
    "\n",
    "# create list for members and electoral terms\n",
    "members: list[Member] = list()\n",
    "terms: list[Term] = list()\n",
    "\n",
    "# iterate over MDB elements to parse member and term data\n",
    "for mdb in root.findall(\"MDB\"):\n",
    "    member_id = _txt(mdb, \"ID\")\n",
    "\n",
    "    namen = _choose_name_variant(mdb.find(\"NAMEN\"))\n",
    "    biog = mdb.find(\"BIOGRAFISCHE_ANGABEN\")\n",
    "\n",
    "    member = Member(\n",
    "        id=member_id,\n",
    "        last_name=_txt(namen, \"NACHNAME\"),\n",
    "        first_name=_txt(namen, \"VORNAME\"),\n",
    "        academic_title=_txt(namen, \"AKAD_TITEL\"),\n",
    "        birth_date=_parse_date(_txt(biog, \"GEBURTSDATUM\")),\n",
    "        birth_place=_txt(biog, \"GEBURTSORT\"),\n",
    "        birth_country=_txt(biog, \"GEBURTSLAND\"),\n",
    "        death_date=_parse_date(_txt(biog, \"STERBEDATUM\")),\n",
    "        gender=_txt(biog, \"GESCHLECHT\"),\n",
    "        marital_status=_txt(biog, \"FAMILIENSTAND\"),\n",
    "        aristocracy=_txt(biog, \"RELIGION\"),\n",
    "        profession=_txt(biog, \"BERUF\"),\n",
    "        party_short=_txt(biog, \"PARTEI_KURZ\"),\n",
    "    )\n",
    "    members.append(member)\n",
    "\n",
    "    wps = mdb.find(\"WAHLPERIODEN\")\n",
    "    if wps is not None:\n",
    "        for wp in wps.findall(\"WAHLPERIODE\"):\n",
    "            terms.append(\n",
    "                Term(\n",
    "                    member_id=member_id,\n",
    "                    wp=int(_txt(wp, \"WP\")) if _txt(wp, \"WP\").isdigit() else None,\n",
    "                    mdbwp_von=_parse_date(_txt(wp, \"MDBWP_VON\")),\n",
    "                    mdbwp_bis=_parse_date(_txt(wp, \"MDBWP_BIS\")),\n",
    "                    wkr_nummer=_txt(wp, \"WKR_NUMMER\"),\n",
    "                    wkr_name=_txt(wp, \"WKR_NAME\"),\n",
    "                    wkr_land=_txt(wp, \"WKR_LAND\"),\n",
    "                    liste=_txt(wp, \"LISTE\"),\n",
    "                    mandatsart=_txt(wp, \"MANDATSART\"),\n",
    "                )\n",
    "            )\n",
    "\n",
    "# convert to DataFrames\n",
    "members_df = pd.DataFrame([asdict(m) for m in members])\n",
    "terms_df = pd.DataFrame([asdict(t) for t in terms])\n",
    "\n",
    "# convert datetime to date for nicer display\n",
    "for df in (members_df, terms_df):\n",
    "    for col in df.columns:\n",
    "        if pd.api.types.is_datetime64_any_dtype(df[col]):\n",
    "            df[col] = df[col].dt.date"
   ]
  },
  {
   "cell_type": "code",
   "execution_count": null,
   "id": "58c93abe",
   "metadata": {},
   "outputs": [],
   "source": [
    "# save dataframes\n",
    "members_df.to_csv(\"data/processed/members.csv\", index=False)\n",
    "\n",
    "terms_df.to_csv(\"data/processed/terms.csv\", index=False)"
   ]
  }
 ],
 "metadata": {
  "kernelspec": {
   "display_name": "app-py3.11",
   "language": "python",
   "name": "python3"
  },
  "language_info": {
   "name": "python",
   "version": "3.11.12"
  }
 },
 "nbformat": 4,
 "nbformat_minor": 5
}
